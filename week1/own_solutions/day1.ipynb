{
 "cells": [
  {
   "cell_type": "markdown",
   "id": "d15d8294-3328-4e07-ad16-8a03e9bbfdb9",
   "metadata": {},
   "source": [
    "# YOUR FIRST LAB\n",
    "### Please read this section. This is valuable to get you prepared, even if it's a long read -- it's important stuff.\n",
    "\n",
    "## Your first Frontier LLM Project\n",
    "\n",
    "Let's build a useful LLM solution - in a matter of minutes.\n",
    "\n",
    "By the end of this course, you will have built an autonomous Agentic AI solution with 7 agents that collaborate to solve a business problem. All in good time! We will start with something smaller...\n",
    "\n",
    "Our goal is to code a new kind of Web Browser. Give it a URL, and it will respond with a summary. The Reader's Digest of the internet!!\n",
    "\n",
    "Before starting, you should have completed the setup for [PC](../SETUP-PC.md) or [Mac](../SETUP-mac.md) and you hopefully launched this jupyter lab from within the project root directory, with your environment activated.\n",
    "\n",
    "## If you're new to Jupyter Lab\n",
    "\n",
    "Welcome to the wonderful world of Data Science experimentation! Once you've used Jupyter Lab, you'll wonder how you ever lived without it. Simply click in each \"cell\" with code in it, such as the cell immediately below this text, and hit Shift+Return to execute that cell. As you wish, you can add a cell with the + button in the toolbar, and print values of variables, or try out variations.  \n",
    "\n",
    "I've written a notebook called [Guide to Jupyter](Guide%20to%20Jupyter.ipynb) to help you get more familiar with Jupyter Labs, including adding Markdown comments, using `!` to run shell commands, and `tqdm` to show progress.\n",
    "\n",
    "## If you're new to the Command Line\n",
    "\n",
    "Please see these excellent guides: [Command line on PC](https://chatgpt.com/share/67b0acea-ba38-8012-9c34-7a2541052665) and [Command line on Mac](https://chatgpt.com/canvas/shared/67b0b10c93a081918210723867525d2b).  \n",
    "\n",
    "## If you'd prefer to work in IDEs\n",
    "\n",
    "If you're more comfortable in IDEs like VSCode or Pycharm, they both work great with these lab notebooks too.  \n",
    "If you'd prefer to work in VSCode, [here](https://chatgpt.com/share/676f2e19-c228-8012-9911-6ca42f8ed766) are instructions from an AI friend on how to configure it for the course.\n",
    "\n",
    "## If you'd like to brush up your Python\n",
    "\n",
    "I've added a notebook called [Intermediate Python](Intermediate%20Python.ipynb) to get you up to speed. But you should give it a miss if you already have a good idea what this code does:    \n",
    "`yield from {book.get(\"author\") for book in books if book.get(\"author\")}`\n",
    "\n",
    "## I am here to help\n",
    "\n",
    "If you have any problems at all, please do reach out.  \n",
    "I'm available through the platform, or at ed@edwarddonner.com, or at https://www.linkedin.com/in/eddonner/ if you'd like to connect (and I love connecting!)  \n",
    "And this is new to me, but I'm also trying out X/Twitter at [@edwarddonner](https://x.com/edwarddonner) - if you're on X, please show me how it's done 😂  \n",
    "\n",
    "## More troubleshooting\n",
    "\n",
    "Please see the [troubleshooting](troubleshooting.ipynb) notebook in this folder to diagnose and fix common problems. At the very end of it is a diagnostics script with some useful debug info.\n",
    "\n",
    "## If this is old hat!\n",
    "\n",
    "If you're already comfortable with today's material, please hang in there; you can move swiftly through the first few labs - we will get much more in depth as the weeks progress.\n",
    "\n",
    "<table style=\"margin: 0; text-align: left;\">\n",
    "    <tr>\n",
    "        <td style=\"width: 150px; height: 150px; vertical-align: middle;\">\n",
    "            <img src=\"../important.jpg\" width=\"150\" height=\"150\" style=\"display: block;\" />\n",
    "        </td>\n",
    "        <td>\n",
    "            <h2 style=\"color:#900;\">Please read - important note</h2>\n",
    "            <span style=\"color:#900;\">The way I collaborate with you may be different to other courses you've taken. I prefer not to type code while you watch. Rather, I execute Jupyter Labs, like this, and give you an intuition for what's going on. My suggestion is that you carefully execute this yourself, <b>after</b> watching the lecture. Add print statements to understand what's going on, and then come up with your own variations. If you have a Github account, use this to showcase your variations. Not only is this essential practice, but it demonstrates your skills to others, including perhaps future clients or employers...</span>\n",
    "        </td>\n",
    "    </tr>\n",
    "</table>\n",
    "<table style=\"margin: 0; text-align: left;\">\n",
    "    <tr>\n",
    "        <td style=\"width: 150px; height: 150px; vertical-align: middle;\">\n",
    "            <img src=\"../resources.jpg\" width=\"150\" height=\"150\" style=\"display: block;\" />\n",
    "        </td>\n",
    "        <td>\n",
    "            <h2 style=\"color:#f71;\">Treat these labs as a resource</h2>\n",
    "            <span style=\"color:#f71;\">I push updates to the code regularly. When people ask questions or have problems, I incorporate it in the code, adding more examples or improved commentary. As a result, you'll notice that the code below isn't identical to the videos. Everything from the videos is here; but in addition, I've added more steps and better explanations, and occasionally added new models like DeepSeek. Consider this like an interactive book that accompanies the lectures.\n",
    "            </span>\n",
    "        </td>\n",
    "    </tr>\n",
    "</table>\n",
    "<table style=\"margin: 0; text-align: left;\">\n",
    "    <tr>\n",
    "        <td style=\"width: 150px; height: 150px; vertical-align: middle;\">\n",
    "            <img src=\"../business.jpg\" width=\"150\" height=\"150\" style=\"display: block;\" />\n",
    "        </td>\n",
    "        <td>\n",
    "            <h2 style=\"color:#181;\">Business value of these exercises</h2>\n",
    "            <span style=\"color:#181;\">A final thought. While I've designed these notebooks to be educational, I've also tried to make them enjoyable. We'll do fun things like have LLMs tell jokes and argue with each other. But fundamentally, my goal is to teach skills you can apply in business. I'll explain business implications as we go, and it's worth keeping this in mind: as you build experience with models and techniques, think of ways you could put this into action at work today. Please do contact me if you'd like to discuss more or if you have ideas to bounce off me.</span>\n",
    "        </td>\n",
    "    </tr>\n",
    "</table>"
   ]
  },
  {
   "cell_type": "code",
   "execution_count": 2,
   "id": "4e2a9393-7767-488e-a8bf-27c12dca35bd",
   "metadata": {},
   "outputs": [],
   "source": [
    "# imports\n",
    "\n",
    "import os\n",
    "import requests\n",
    "from dotenv import load_dotenv\n",
    "from bs4 import BeautifulSoup\n",
    "from IPython.display import Markdown, display\n",
    "from openai import OpenAI\n",
    "\n",
    "# If you get an error running this cell, then please head over to the troubleshooting notebook!"
   ]
  },
  {
   "cell_type": "markdown",
   "id": "6900b2a8-6384-4316-8aaa-5e519fca4254",
   "metadata": {},
   "source": [
    "# Connecting to OpenAI\n",
    "\n",
    "The next cell is where we load in the environment variables in your `.env` file and connect to OpenAI.\n",
    "\n",
    "## Troubleshooting if you have problems:\n",
    "\n",
    "Head over to the [troubleshooting](troubleshooting.ipynb) notebook in this folder for step by step code to identify the root cause and fix it!\n",
    "\n",
    "If you make a change, try restarting the \"Kernel\" (the python process sitting behind this notebook) by Kernel menu >> Restart Kernel and Clear Outputs of All Cells. Then try this notebook again, starting at the top.\n",
    "\n",
    "Or, contact me! Message me or email ed@edwarddonner.com and we will get this to work.\n",
    "\n",
    "Any concerns about API costs? See my notes in the README - costs should be minimal, and you can control it at every point. You can also use Ollama as a free alternative, which we discuss during Day 2."
   ]
  },
  {
   "cell_type": "code",
   "execution_count": 3,
   "id": "7b87cadb-d513-4303-baee-a37b6f938e4d",
   "metadata": {},
   "outputs": [
    {
     "name": "stdout",
     "output_type": "stream",
     "text": [
      "API key found and looks good so far!\n"
     ]
    }
   ],
   "source": [
    "# Load environment variables in a file called .env\n",
    "\n",
    "load_dotenv(override=True)\n",
    "api_key = os.getenv('OPENAI_API_KEY')\n",
    "\n",
    "# Check the key\n",
    "\n",
    "if not api_key:\n",
    "    print(\"No API key was found - please head over to the troubleshooting notebook in this folder to identify & fix!\")\n",
    "elif not api_key.startswith(\"sk-proj-\"):\n",
    "    print(\"An API key was found, but it doesn't start sk-proj-; please check you're using the right key - see troubleshooting notebook\")\n",
    "elif api_key.strip() != api_key:\n",
    "    print(\"An API key was found, but it looks like it might have space or tab characters at the start or end - please remove them - see troubleshooting notebook\")\n",
    "else:\n",
    "    print(\"API key found and looks good so far!\")\n"
   ]
  },
  {
   "cell_type": "code",
   "execution_count": 4,
   "id": "019974d9-f3ad-4a8a-b5f9-0a3719aea2d3",
   "metadata": {},
   "outputs": [],
   "source": [
    "openai = OpenAI()\n",
    "\n",
    "# If this doesn't work, try Kernel menu >> Restart Kernel and Clear Outputs Of All Cells, then run the cells from the top of this notebook down.\n",
    "# If it STILL doesn't work (horrors!) then please see the Troubleshooting notebook in this folder for full instructions"
   ]
  },
  {
   "cell_type": "markdown",
   "id": "442fc84b-0815-4f40-99ab-d9a5da6bda91",
   "metadata": {},
   "source": [
    "# Let's make a quick call to a Frontier model to get started, as a preview!"
   ]
  },
  {
   "cell_type": "code",
   "execution_count": 8,
   "id": "0c6ab543",
   "metadata": {},
   "outputs": [
    {
     "name": "stdout",
     "output_type": "stream",
     "text": [
      "Hello! Welcome! I'm glad to hear from you. How can I assist you today?\n"
     ]
    }
   ],
   "source": [
    "message = \"Hello, GPT! This is my first ever message to you! Hi!\"\n",
    "response = openai.chat.completions.create(model=\"gpt-4o-mini\", messages=[{\"role\":\"user\",\"content\":message}])\n",
    "print(response.choices[0].message.content)"
   ]
  },
  {
   "cell_type": "markdown",
   "id": "2aa190e5-cb31-456a-96cc-db109919cd78",
   "metadata": {},
   "source": [
    "## OK onwards with our first project"
   ]
  },
  {
   "cell_type": "code",
   "execution_count": 18,
   "id": "c5e793b2-6775-426a-a139-4848291d0463",
   "metadata": {},
   "outputs": [],
   "source": [
    "# A class to represent a Webpage\n",
    "# If you're not familiar with Classes, check out the \"Intermediate Python\" notebook\n",
    "\n",
    "# Some websites need you to use proper headers when fetching them:\n",
    "headers = {\n",
    " \"User-Agent\": \"Mozilla/5.0 (Windows NT 10.0; Win64; x64) AppleWebKit/537.36 (KHTML, like Gecko) Chrome/117.0.0.0 Safari/537.36\"\n",
    "}\n",
    "\n",
    "class Website:\n",
    "\n",
    "    def __init__(self, url):\n",
    "        \"\"\"\n",
    "        Create this Website object from the given url using the BeautifulSoup library\n",
    "        \"\"\"\n",
    "        self.url = url\n",
    "        response = requests.get(url, headers=headers)\n",
    "        soup = BeautifulSoup(response.content, 'html.parser')\n",
    "        self.title = soup.title.string if soup.title else \"No title found\"\n",
    "        for irrelevant in soup.body([\"script\", \"style\", \"img\", \"input\"]):\n",
    "            irrelevant.decompose()\n",
    "        self.text = soup.body.get_text(separator=\"\\n\", strip=True)"
   ]
  },
  {
   "cell_type": "code",
   "execution_count": 19,
   "id": "2ef960cf-6dc2-4cda-afb3-b38be12f4c97",
   "metadata": {},
   "outputs": [
    {
     "name": "stdout",
     "output_type": "stream",
     "text": [
      "Home - Edward Donner\n",
      "Home\n",
      "Connect Four\n",
      "Outsmart\n",
      "An arena that pits LLMs against each other in a battle of diplomacy and deviousness\n",
      "About\n",
      "Posts\n",
      "Well, hi there.\n",
      "I’m Ed. I like writing code and experimenting with LLMs, and hopefully you’re here because you do too. I also enjoy DJing (but I’m badly out of practice), amateur electronic music production (\n",
      "very\n",
      "amateur) and losing myself in\n",
      "Hacker News\n",
      ", nodding my head sagely to things I only half understand.\n",
      "I’m the co-founder and CTO of\n",
      "Nebula.io\n",
      ". We’re applying AI to a field where it can make a massive, positive impact: helping people discover their potential and pursue their reason for being. Recruiters use our product today to source, understand, engage and manage talent. I’m previously the founder and CEO of AI startup untapt,\n",
      "acquired in 2021\n",
      ".\n",
      "We work with groundbreaking, proprietary LLMs verticalized for talent, we’ve\n",
      "patented\n",
      "our matching model, and our award-winning platform has happy customers and tons of press coverage.\n",
      "Connect\n",
      "with me for more!\n",
      "January 23, 2025\n",
      "LLM Workshop – Hands-on with Agents – resources\n",
      "December 21, 2024\n",
      "Welcome, SuperDataScientists!\n",
      "November 13, 2024\n",
      "Mastering AI and LLM Engineering – Resources\n",
      "October 16, 2024\n",
      "From Software Engineer to AI Data Scientist – resources\n",
      "Navigation\n",
      "Home\n",
      "Connect Four\n",
      "Outsmart\n",
      "An arena that pits LLMs against each other in a battle of diplomacy and deviousness\n",
      "About\n",
      "Posts\n",
      "Get in touch\n",
      "ed [at] edwarddonner [dot] com\n",
      "www.edwarddonner.com\n",
      "Follow me\n",
      "LinkedIn\n",
      "Twitter\n",
      "Facebook\n",
      "Subscribe to newsletter\n",
      "Type your email…\n",
      "Subscribe\n"
     ]
    }
   ],
   "source": [
    "# Let's try one out. Change the website and add print statements to follow along.\n",
    "\n",
    "ed = Website(\"https://edwarddonner.com\")\n",
    "print(ed.title)\n",
    "print(ed.text)"
   ]
  },
  {
   "cell_type": "markdown",
   "id": "6a478a0c-2c53-48ff-869c-4d08199931e1",
   "metadata": {},
   "source": [
    "## Types of prompts\n",
    "\n",
    "You may know this already - but if not, you will get very familiar with it!\n",
    "\n",
    "Models like GPT4o have been trained to receive instructions in a particular way.\n",
    "\n",
    "They expect to receive:\n",
    "\n",
    "**A system prompt** that tells them what task they are performing and what tone they should use\n",
    "\n",
    "**A user prompt** -- the conversation starter that they should reply to"
   ]
  },
  {
   "cell_type": "code",
   "execution_count": 20,
   "id": "abdb8417-c5dc-44bc-9bee-2e059d162699",
   "metadata": {},
   "outputs": [],
   "source": [
    "# Define our system prompt - you can experiment with this later, changing the last sentence to 'Respond in markdown in Spanish.\"\n",
    "\n",
    "system_prompt = \"You are an assistant that analyzes the contents of a website \\\n",
    "and provides a short summary, ignoring text that might be navigation related. \\\n",
    "Respond in markdown.\""
   ]
  },
  {
   "cell_type": "code",
   "execution_count": 23,
   "id": "f0275b1b-7cfe-4f9d-abfa-7650d378da0c",
   "metadata": {},
   "outputs": [],
   "source": [
    "# A function that writes a User Prompt that asks for summaries of websites:\n",
    "\n",
    "def user_prompt_for(website):\n",
    "    user_prompt = f\"You are looking at a website titled {website.title}\"\n",
    "    user_prompt += \"\\nThe contents of this website is as follows; \\\n",
    "please provide a short summary of this website in markdown. \\\n",
    "If it includes news or announcements, then summarize these too.\\n\\n\"\n",
    "    user_prompt += website.text\n",
    "    return user_prompt"
   ]
  },
  {
   "cell_type": "code",
   "execution_count": 22,
   "id": "26448ec4-5c00-4204-baec-7df91d11ff2e",
   "metadata": {},
   "outputs": [
    {
     "name": "stdout",
     "output_type": "stream",
     "text": [
      "You are looking at a website titled Home - Edward Donner\n",
      "The contents of this website is as follows; please provide a short summary of this website in markdown. If it includes news or announcements, then summarize these too.\n",
      "\n",
      "Home\n",
      "Connect Four\n",
      "Outsmart\n",
      "An arena that pits LLMs against each other in a battle of diplomacy and deviousness\n",
      "About\n",
      "Posts\n",
      "Well, hi there.\n",
      "I’m Ed. I like writing code and experimenting with LLMs, and hopefully you’re here because you do too. I also enjoy DJing (but I’m badly out of practice), amateur electronic music production (\n",
      "very\n",
      "amateur) and losing myself in\n",
      "Hacker News\n",
      ", nodding my head sagely to things I only half understand.\n",
      "I’m the co-founder and CTO of\n",
      "Nebula.io\n",
      ". We’re applying AI to a field where it can make a massive, positive impact: helping people discover their potential and pursue their reason for being. Recruiters use our product today to source, understand, engage and manage talent. I’m previously the founder and CEO of AI startup untapt,\n",
      "acquired in 2021\n",
      ".\n",
      "We work with groundbreaking, proprietary LLMs verticalized for talent, we’ve\n",
      "patented\n",
      "our matching model, and our award-winning platform has happy customers and tons of press coverage.\n",
      "Connect\n",
      "with me for more!\n",
      "January 23, 2025\n",
      "LLM Workshop – Hands-on with Agents – resources\n",
      "December 21, 2024\n",
      "Welcome, SuperDataScientists!\n",
      "November 13, 2024\n",
      "Mastering AI and LLM Engineering – Resources\n",
      "October 16, 2024\n",
      "From Software Engineer to AI Data Scientist – resources\n",
      "Navigation\n",
      "Home\n",
      "Connect Four\n",
      "Outsmart\n",
      "An arena that pits LLMs against each other in a battle of diplomacy and deviousness\n",
      "About\n",
      "Posts\n",
      "Get in touch\n",
      "ed [at] edwarddonner [dot] com\n",
      "www.edwarddonner.com\n",
      "Follow me\n",
      "LinkedIn\n",
      "Twitter\n",
      "Facebook\n",
      "Subscribe to newsletter\n",
      "Type your email…\n",
      "Subscribe\n"
     ]
    }
   ],
   "source": [
    "print(user_prompt_for(ed))"
   ]
  },
  {
   "cell_type": "markdown",
   "id": "ea211b5f-28e1-4a86-8e52-c0b7677cadcc",
   "metadata": {},
   "source": [
    "## Messages\n",
    "\n",
    "The API from OpenAI expects to receive messages in a particular structure.\n",
    "Many of the other APIs share this structure:\n",
    "\n",
    "```\n",
    "[\n",
    "    {\"role\": \"system\", \"content\": \"system message goes here\"},\n",
    "    {\"role\": \"user\", \"content\": \"user message goes here\"}\n",
    "]\n",
    "\n",
    "To give you a preview, the next 2 cells make a rather simple call - we won't stretch the mighty GPT (yet!)"
   ]
  },
  {
   "cell_type": "code",
   "execution_count": null,
   "id": "f25dcd35-0cd0-4235-9f64-ac37ed9eaaa5",
   "metadata": {},
   "outputs": [],
   "source": [
    "messages = [\n",
    "    {\"role\": \"system\", \"content\": \"You are a snarky assistant\"},\n",
    "    {\"role\": \"user\", \"content\": \"What is 2 + 2?\"}\n",
    "]\n",
    "\n",
    "messages = [\n",
    "    {\"role\":\"system\", \"content\":\"You are a naughty assistant\"},\n",
    "    {\"role\":\"user\", \"content\": \"What can you do?\"}\n",
    "]"
   ]
  },
  {
   "cell_type": "code",
   "execution_count": 27,
   "id": "380627ae",
   "metadata": {},
   "outputs": [
    {
     "name": "stdout",
     "output_type": "stream",
     "text": [
      "I can assist with a variety of tasks! I can provide information, answer questions, help with problem-solving, suggest ideas, and even offer entertainment like jokes or stories. If you have specific topics or tasks in mind, just let me know and I'll do my best to help!\n"
     ]
    }
   ],
   "source": [
    "response = openai.chat.completions.create(model='gpt-4o-mini', messages=messages)\n",
    "print(response.choices[0].message.content)"
   ]
  },
  {
   "cell_type": "markdown",
   "id": "d06e8d78-ce4c-4b05-aa8e-17050c82bb47",
   "metadata": {},
   "source": [
    "## And now let's build useful messages for GPT-4o-mini, using a function"
   ]
  },
  {
   "cell_type": "code",
   "execution_count": null,
   "id": "0134dfa4-8299-48b5-b444-f2a8c3403c88",
   "metadata": {},
   "outputs": [],
   "source": [
    "# See how this function creates exactly the format above\n",
    "\n",
    "\n",
    "def messages_for(website):\n",
    "    return [\n",
    "        {\"role\":\"system\", \"content\": system_prompt},\n",
    "        {\"role\":\"user\", \"content\":user_prompt_for(website)}\n",
    "    ]"
   ]
  },
  {
   "cell_type": "code",
   "execution_count": 29,
   "id": "36478464-39ee-485c-9f3f-6a4e458dbc9c",
   "metadata": {},
   "outputs": [
    {
     "data": {
      "text/plain": [
       "[{'role': 'system',\n",
       "  'content': 'You are an assistant that analyzes the contents of a website and provides a short summary, ignoring text that might be navigation related. Respond in markdown.'},\n",
       " {'role': 'user',\n",
       "  'content': 'You are looking at a website titled Home - Edward Donner\\nThe contents of this website is as follows; please provide a short summary of this website in markdown. If it includes news or announcements, then summarize these too.\\n\\nHome\\nConnect Four\\nOutsmart\\nAn arena that pits LLMs against each other in a battle of diplomacy and deviousness\\nAbout\\nPosts\\nWell, hi there.\\nI’m Ed. I like writing code and experimenting with LLMs, and hopefully you’re here because you do too. I also enjoy DJing (but I’m badly out of practice), amateur electronic music production (\\nvery\\namateur) and losing myself in\\nHacker News\\n, nodding my head sagely to things I only half understand.\\nI’m the co-founder and CTO of\\nNebula.io\\n. We’re applying AI to a field where it can make a massive, positive impact: helping people discover their potential and pursue their reason for being. Recruiters use our product today to source, understand, engage and manage talent. I’m previously the founder and CEO of AI startup untapt,\\nacquired in 2021\\n.\\nWe work with groundbreaking, proprietary LLMs verticalized for talent, we’ve\\npatented\\nour matching model, and our award-winning platform has happy customers and tons of press coverage.\\nConnect\\nwith me for more!\\nJanuary 23, 2025\\nLLM Workshop – Hands-on with Agents – resources\\nDecember 21, 2024\\nWelcome, SuperDataScientists!\\nNovember 13, 2024\\nMastering AI and LLM Engineering – Resources\\nOctober 16, 2024\\nFrom Software Engineer to AI Data Scientist – resources\\nNavigation\\nHome\\nConnect Four\\nOutsmart\\nAn arena that pits LLMs against each other in a battle of diplomacy and deviousness\\nAbout\\nPosts\\nGet in touch\\ned [at] edwarddonner [dot] com\\nwww.edwarddonner.com\\nFollow me\\nLinkedIn\\nTwitter\\nFacebook\\nSubscribe to newsletter\\nType your email…\\nSubscribe'}]"
      ]
     },
     "execution_count": 29,
     "metadata": {},
     "output_type": "execute_result"
    }
   ],
   "source": [
    "# Try this out, and then try for a few more websites\n",
    "\n",
    "messages_for(ed)"
   ]
  },
  {
   "cell_type": "code",
   "execution_count": null,
   "id": "938ca41b",
   "metadata": {},
   "outputs": [
    {
     "data": {
      "text/plain": [
       "[{'role': 'system',\n",
       "  'content': 'You are an assistant that analyzes the contents of a website and provides a short summary, ignoring text that might be navigation related. Respond in markdown.'},\n",
       " {'role': 'user',\n",
       "  'content': \"You are looking at a website titled 4 Hal Seputar Ricardo Kaka, Peraih Ballon d'Or Terakhir Sebelum Era Ronaldo dan Messi - Page 3 - Dunia Bola.com\\nThe contents of this website is as follows; please provide a short summary of this website in markdown. If it includes news or announcements, then summarize these too.\\n\\nSukses\\nbola\\nCARI\\nHome\\nIndonesia\\nInggris\\nDunia\\nSpanyol\\nMotoGP\\nE-sports\\nRagam\\nVideo\\nFoto\\nHALF-TIME SHOW:\\nEksklusif: Hey, Apa Kabar Ratu Tisha? Curhat soal PSSI di Sini Yuk. Merapat Sobat Bola.com!\\nLink Live Streaming\\nLiga Champions\\nLiga Europa\\nCristiano Ronaldo\\nSportBites\\nLiga Italia\\nHome\\nDunia\\n4 Hal Seputar Ricardo Kaka, Peraih Ballon d'Or Terakhir Sebelum Era Ronaldo dan Messi\\nPada Rabu (22/4/2020), Ricardo Kaka merayakan ulang tahun ke-38. Ia merupakan peraih Ballon d'Or terakhir sebelum dominasi Cristiano Ronaldo dan Lionel Messi.\\nHanif Sri Yulianto\\nDiperbarui\\n23 Apr 2020, 09:20 WIB\\nDiterbitkan\\n23 Apr 2020, 09:20 WIB\\n257\\nLegenda AC Milan Ricardo Kaka bisa batal pensiun gara-gara tawaran sebuah klub Tiongkok. (twitter.com/acmilan)\\n... Selengkapnya\\nBola.com, Jakarta -\\nRicardo Izecson dos Santos Leite atau biasa dikenal dengan\\nRicardo Kaka\\nmerupakan pemain terakhir yang meraih trofi Ballon d'Or sebelum era Cristiano Ronaldo dan Lionel Messi dimulai.\\nPemain berpaspor Brasil itu meraih Ballon d'Or 2007 setelah membawa AC Milan meraih trofi Liga Champions di tahun yang sama.\\nBaca Juga:\\nUpdate Timnas Indonesia Jelang Hadapi Australia: 2 Pemain Absen, 2 Lainnya Cedera\\nBaca Juga:\\nNyindir nih! Pelatih Bahrain Bilang Akan Hadapi Belanda, Bukan Timnas Indonesia\\nBaca Juga:\\nNOC Indonesia Incar Jadi Tuan Rumah Olimpiade 2036 dan Youth Olympic Games 2030\\nBaca Juga:\\nUtak-atik Para Penyerang Pilihan Patrick Kluivert saat Hadapi Australia: Tempat Utama untuk Ole Romeny?\\nBaca Juga:\\nMenpora Jelang Timnas Indonesia Vs Bahrain: Dubes Lawan Merasa Tidak Ada Ancaman, tapi di Medsos Netizen Pasti Ramai\\nBaca Juga\\nDoa Pieter Huistra untuk Timnas Indonesia di Kualifikasi Piala Dunia 2026: Semoga Bisa Bermain Bagus dan Mengambil Poin\\nPersis Resmi Datangkan Eks Pelatih Fisik Timnas Malaysia, Striker Naturalisasi Harimau Malaya Ikut Bereaksi\\nAustralia Umumkan Skuad Melawan Timnas Indonesia Dua Hari Lagi, 5 Bek Pilihan Cedera Semua\\nAdvertisement\\nPada Rabu (22/4/2020),\\nRicardo Kaka\\nmerayakan ulang tahun ke-38. Ia telah pensiun dari dunia profesional sepak bola pada 2017.\\nKlub terakhirnya adalah Orlando City yang berlaga di Major League Soccer, Amerika Serikat.\\nRicardo Kaka merupakan pesepak bola terhebat dan terpopuler sepanjang masa. Ia memiliki pengikut lebih dari 16 juta di Instagram dan 29,6 juta di Twitter.\\nMelansir\\nGive Me Sport\\n, Kamis (23/4/2020), kepopuleran Kaka tak redup usai gantung sepatu. Ketika menjalani pertandingan amal di Israel, seorang wasit sampai memberi kartu kuning hanya untuk minta foto bersama Kaka.\\nSembari mengucapkan selama ulang tahun, berikut\\nBola.com\\nmerangkum sederet fakta menarik terkait kiprah\\nRicardo Kaka\\ndi lapangan hijau.\\nYuk gabung\\nchannel whatsapp Bola.com\\nuntuk mendapatkan berita-berita terbaru tentang Timnas Indonesia, BRI Liga 1, Liga Champions, Liga Inggris, Liga Italia, Liga Spanyol, bola voli, MotoGP, hingga bulutangkis.\\nKlik di sini (JOIN)\\n2 dari 5 halaman\\n1. Terlahir dari Keluarga Kaya\\nRicardo Kaka saat ini bermain untuk Orlando City, Kekayaan bersihnya mencapai  € 82 juta euro, Kaka juga menjadi bintang iklan untuk beberapa merek terkenal seperti Adidas. (AFP Photo/Michael Buholzer)\\n... Selengkapnya\\nRata-rata pemain sepak bola Brasil memiliki kehidupan kelam saat kecil. Namun, Ricardo Kaka berbeda. Dia lahir dari keluarga kaya dan agamis. Ayahnya bernama Bosco Izecson Pereira Leite, seorang insinyur dengan penghasilan besar di Brasil.\\nBerkat kemampuan finansial keluarganya yang di atas rata-rata, Kaka juga mendapat pendidikan yang layak sewaktu kecil. Sembari bersekolah, Kaka juga bisa fokus berlatih sepak bola.\\nAdvertisement\\n3 dari 5 halaman\\n2. Bersinar Bersama AC Milan\\nAC Milan - Pengoleksi tujuh gelar juara Liga Champions ini masih belum mampu untuk kembali ke habitatnya di kasta tertinggi. Terakhir kali Rossonerri lolos pada tahun 2014 saat masih dibela oleh sang legenda, Kaka. (AFP/Pierre-Philippe Marcou)\\n... Selengkapnya\\nRicardo Kaka mengukir tinta emas di dunia sepak bola ketika berseragam AC Milan. Klub asal Italia tersebut mendatangkan sang pemain dari Sao Paulo pada 2003.\\nKaka memiliki dua periode berseragam merah hitam yakni 2003-2009 dan 2013-2014. Periode pertama ini yang membesarkan nama Kaka.\\nSederet trofi beruapa Liga Champions, Seria A, Piala Super Italia, Copa Italia, Piala Dunia Antarklub, Piala Super Eropa berhasil ia persembahkan untuk AC Milan. Periode pertama Kaka berakhir dengan kepindahan ke Real Madrid pada musim panas 2009.\\nSang pemain pindah dengan biaya 67 juta euro.\\n4 dari 5 halaman\\n3. Cedera Buat Karier Kaka di Real Madrid Meredup\\nKaka didatangkan AC Milan dari Sao Paulo tahun 2003 dan mencetak rekor transfer termahal di dunia saat pindah ke Real Madrid tahun 2009. Berbagai gelar bergengsi telah diraih Kaka selama berkarier di Eropa. (AFP/Pedro Armestre)\\n... Selengkapnya\\nRicardo Kaka datang ke Real Madrid berbarengan dengan Cristiano Ronaldo. Sayang, kiprah Kaka di Real Madrid tak sesuai ekspektasi.\\nFaktor cedera membuat sinar Kaka perlahan-lahan meredup di Spanyol. Ia kerap menjadi penghangat bangku cadangan.\\nMeski begitu, Kaka juga ikut andil dalam membawa Real Madrid meraih Trofi La Liga 2011-2012, Piala Raja 2010-2011, dan Piala Super Spanyol 2011-2012.\\nRicardo Kaka lalu kembali ke AC Milan pada 2013. Ia pindah dengan status bebas transfer.\\nAdvertisement\\n5 dari 5 halaman\\n4. Menjadi Duta PBB\\nKaka - Bintang AC Milan asal Brasil ini memiliki nama asli Ricardo Izecson dos Santos Leite. Julukan Kaka bermula dari panggilan adiknya Diago untuk dirinya yang saat itu tidak bisa menyebutkan nama Ricardo. (AFP/Giuseppe Cacace)\\n... Selengkapnya\\nSejak 2004, Kaka telah menjadi duta besar PBB untuk Program Pangan Dunia. Ia juga pernah menjadi cover majalah Time sebagai satu di antara orang paling berpengaruh di dunia.\\nSelamat ulang tahun ke-38, Ricardo Kaka!\\nSumber\\n: berbagai sumber\\nBerita video Sportylife kali ini membahas makanan-makanan khas Indonesia yang disukai oleh para pesepak bola dan legenda dunia.\\nLionel Messi\\nAtlet\\nLionel Messi adalah pemain sepak bola berbakat asal Argentina yang tergabung dalam klub Barcelona\\nLihat Selengkapnya\\nLionel Messi\\nCristiano Ronaldo\\nTim Sepakbola\\nCristiano Ronaldo merupakan pemain sepak bola asal Portugal. Ronaldo kini bergabung dengan tim Real Madrid.\\nLihat Selengkapnya\\nCristiano Ronaldo\\nAC Milan\\nTim Sepakbola\\nAssociazione Calcio Milan adalah klub sepak bola Italia yang berbasis di Milan, Lombardia. AC Milan bermain di Serie A.\\nLihat Selengkapnya\\nAC Milan\\nReal Madrid\\nTim Sepakbola\\nReal Madrid adalah klub besar sepak bola asal Spanyol yang bermain dalam La Liga\\nLihat Selengkapnya\\nReal Madrid\\nSportylife\\nSportBites\\nRicardo Kaka\\nArtikel Bola\\nBola.com\\nLebih Dekat\\npowered by\\n0%\\nsuka\\n0%\\nlucu\\n0%\\nsedih\\n0%\\nmarah\\n0%\\nkaget\\n0%\\naneh\\n0%\\ntakut\\n0%\\ntakjub\\nKredit\\nHanif Sri Yulianto\\nAuthor\\nAning Jati\\nEditor\\nBagikan\\n257\\nAdvertisement\\nBerita Terkait\\nUpdate Timnas Indonesia Jelang Hadapi Australia: 2 Pemain Absen, 2 Lainnya Cedera\\nNyindir nih! Pelatih Bahrain Bilang Akan Hadapi Belanda, Bukan Timnas Indonesia\\nNOC Indonesia Incar Jadi Tuan Rumah Olimpiade 2036 dan Youth Olympic Games 2030\\nUtak-atik Para Penyerang Pilihan Patrick Kluivert saat Hadapi Australia: Tempat Utama untuk Ole Romeny?\\nMenpora Jelang Timnas Indonesia Vs Bahrain: Dubes Lawan Merasa Tidak Ada Ancaman, tapi di Medsos Netizen Pasti Ramai\\nMenpora Ungkap Dubes Bahrain Minta Pengamanan untuk Timnya saat Melawan Timnas Indonesia di SUGBK, tapi Bukan Rantis Barracuda\\nAdu Mentereng Staf Pelatih Timnas Indonesia Vs Australia\\nMengukur Kekuatan Lini Belakang Timnas Indonesia untuk Hadapi Australia dan Bahrain: Stok Melimpah, Bikin Kluivert Punya Banyak Pilihan\\nAdu Mentereng Performa Ramadhan Sananta vs Hokky Caraka: Pembuktian Duo Striker Muda Timnas Indonesia!\\nDuel Antarlini Persebaya Vs PSIS di BRI Liga 1: Tuan Rumah Merata, Mahesa Jenar Hadapi Bahaya\\nNETWORK\\nKenaikan Pangkat Mayor Teddy Jadi Letkol Tuai Pro-Kontra, Imparsial Desak Panglima TNI Batalkan\\n4 hari yang lalu\\nKomisi V: Langkah Kemendes Pecat Pendamping Desa karena Maju Caleg Tidak Berdasar\\n2 minggu yang lalu\\nDemokrat Hanya Raih 44 Kursi DPR di Pemilu 2024, AHY Singgung Isu Pengambilalihan Partai\\n2 minggu yang lalu\\nPakar Kepemiluan: Tidak Semua Pelanggaran Administratif Pilkada Harus PSU\\n3 minggu yang lalu\\nCatatkan Rekor, KPU RI Indeks Partisipasi Pemilih di Pemilu 2024 Capai 82 Persen\\n1 bulan yang lalu\\nPengamat Sebut Anggota DPR Fraksi PDIP Bisa Kena PAW Buntut Pencopotan Ketua KPU dan Bawaslu Brebes\\n1 bulan yang lalu\\nTimnas Indonesia\\nDoa Pieter Huistra untuk Timnas Indonesia di Kualifikasi Piala Dunia 2026: Semoga Bisa Bermain Bagus dan Mengambil Poin\\nBahrain Berambisi Sikat Jepang dan Timnas Indonesia, Dragan Talajic: Ini Kesempatan Kami Lolos ke Piala Dunia 2026\\nLini Belakang Tereduksi, Timnas Australia Panggil Alex Grant Jelang Kontra Timnas Indonesia di Kualifikasi Piala Dunia 2026?\\nAustralia Umumkan Skuad Melawan Timnas Indonesia Dua Hari Lagi, 5 Bek Pilihan Cedera Semua\\nUpdate Timnas Indonesia Jelang Hadapi Australia: 2 Pemain Absen, 2 Lainnya Cedera\\nNyindir nih! Pelatih Bahrain Bilang Akan Hadapi Belanda, Bukan Timnas Indonesia\\nPatrick Kluivert\\nJadwal Mepet Jadi Tantangan Berat Patrick Kluivert Bersama Timnas Indonesia\\nUtak-atik Para Penyerang Pilihan Patrick Kluivert saat Hadapi Australia: Tempat Utama untuk Ole Romeny?\\nVIDEO: Alasan Jordi Cruyff Menerima Ajakan Patrick Kluivert untuk Menjadi Penasihat Teknis Timnas Indonesia\\nTony Popovic Vs Patrick Kluivert: dari Rival di Liga Inggris, Kini Adu Taktik di Kualifikasi Piala Dunia\\nMenebak Cara Bermain Timnas Indonesia Ala Patrick Kluivert: Compact Defense dan Banyak Menguasai Bola\\nDeretan Fakta Menarik Gerombolan Para Penyerang yang Masuk Pemanggilan Tahap Awal Timnas Indonesia: Kolaborasi Wajah Lama dan Baru\\nBRI Liga 1\\nPersis Resmi Datangkan Eks Pelatih Fisik Timnas Malaysia, Striker Naturalisasi Harimau Malaya Ikut Bereaksi\\nYang Tersisa dari Laga PSS Vs Persis di BRI Liga 1: Super Elang Jawa Selalu Kebobolan di Babak Kedua\\nPersebaya Berencana Jadi Pengelola Stadion GBT, Kerja Sama dengan Pemkot Surabaya\\nDewa United Kalah, Persebaya Berkesempatan Duduki Runner-Up BRI Liga 1, tapi…\\nWiliam Marcilio Punya Mimpi yang Ingin Diwujudkan di Arema FC\\nMeski Terima Kekalahan dari PSBS, Pelatih Bali United Keluhkan Jadwal Pertandingan yang Mepet\\nPLN Mobile\\nPLN Mobile Proliga 2025: Hasil Lengkap Pertandingan dan Klasemen Sementara Musim Reguler\\nNonton Tim Favorit Tanding di Grand Final PLN Mobile Proliga 2024, Beli Tiketnya di Aplikasi PLN Mobile\\nKomentar Megawari Hangestri Setelah Jakarta BIN Puncaki Klasemen PLN Mobile Proliga 2024\\nVIDEO: Komentar SBY Setelah Nonton Langsung Jakarta Lavani Allo Bank Electric di PLN Mobile Proliga 2024\\nJakarta Electric PLN Jaga Asa Tembus Final Four PLN Mobile Proliga 2024 Usai\\xa0Menang 3-2 Atas Bandung BJB Tandamata\\nMau Nonton Langsung PLN Mobile Proliga 2024 Seri Palembang? Beli Tiket via Aplikasi PLN Mobile, Mudah dan Cepat\\nLiga Inggris\\nRagam Nasib Talenta Muda MU: Ada yang Nyangkut di Kasta 9 Liga Inggris\\n8 Wonderkid Arsenal yang Digadang-gadang Jadi Bintang, Eh Malah Menghilang\\nRekap Pekan ke-28 Liga Inggris: Duel Sengit Man United vs Arsenal Hingga Klasemen Terbaru\\nLebih dari Nyanyian dan Sepak Bola: Kisah You'll Never Walk Alone di Liverpool\\nMU Umumkan Proyek Super, Stadion 100 Ribu Tempat Duduk Paling Modern di Inggris\\nRio Ferdinand Tidak Lagi Mengenali Raheem Sterling di Arsenal\\nVideo Populer\\n01:19\\nVIDEO: Alasan Jordi Cruyff Menerima Ajakan Patrick Kluivert untuk Menjadi Penasihat Teknis Timnas Indonesia\\n02:17\\nVIDEO: Begini Cara Jordi Cruyff Membangun Timnas Indonesia dari Akar Rumput\\n01:28\\nVIDEO: Jordi Cruyff Dikenalkan sebagai Penasihat Teknis PSSI, Apa yang Akan Dilakukan Pertama Kali?\\n00:49\\nVIDEO: Borneo FC Akan Selalu Konsisten Menempa Pemain untuk Bisa Dipanggil Timnas Indonesia\\nVIDEO: 27 Pemain Dipanggil Patrick Kluivert, Stok Terbaik tapi Kok Nihil dari Persib Bandung? Simak Analisis Eks Timnas\\xa0Indonesia\\n01:50\\nVIDEO: Tak Hanya Perkenalkan Produk Baru, Gelora Media Day Juga Gelar LIGERA Championship 2025\\nFoto Populer\\n6\\nFoto: Kesedihan Pemain Liverpool Setelah Disingkirkan PSG dari Liga Champions, Mohamed Salah Tak Kuasa Menahan Air Mata\\n7\\nFoto: Aksi Heroik Gianluigi Donnarumma saat Pupuskan Langkah Liverpool di Liga Champions\\n6\\nFoto: Inter Milan Dilarang Terlena, Robin van Persie Siap Bikin Kejutan di Leg Kedua Liga Champions\\n7\\nFoto: Selebrasi Gol Arema FC Saat Kalahkan 9 Pemain Persija Jakarta\\n8\\nFoto: Jordi Cruyff Resmi Diperkenalkan Diperkenalkan Sebagai Penasihat Teknis PSSI\\n5\\nFoto: Bruno Guimaraes Jadi Pahlawan Kemenangan Newcastle atas West Ham di Liga Inggris\\nAdvertisement\\nTRENDING\\n#\\nLink Live Streaming\\n#\\nLiga Champions\\n#\\nLiga Europa\\n#\\nCristiano Ronaldo\\n#\\nSportBites\\n#\\nLiga Italia\\n#\\nLionel Messi\\n#\\nWAGs\\nUPDATE JUVENTUS\\nLiga Italia: Juventus Disebut Kontak Igor Tudor untuk Gantikan Thiago Motta\\nUpdate Nasib Thiago Motta di Juventus; Ada Pergerakan, tapi Terus Ditolak\\n3 Biang Kerok Juventus Babak Belur di Tangan Atalanta: Kelabakan Lawan Tim yang Efisien\\nADA APA AC MILAN?\\n5 Kisah Pengurangan Poin Terbesar di Sepak Bola: Skandal Calciopoli Paling Parah\\nFoto: Comeback Apik Duo Milan di Liga Italia, Manisnya Menang Dramatis\\n11 Comeback Gila di Sepak Bola: MU, Arsenal, AC Milan Pernah Alami, Yuk Simak Buktinya!\\nPopuler\\nLihat Semua\\n1\\nDunia\\nSaksikan Live Streaming Liverpool Vs PSG di Liga Champions, Ini Link-nya\\n2\\nDunia\\nArne Slot Merasa Ada Ketidakadilan di Liga Champions: Liverpool Juara Fase Grup, Kok Lawannya Langsung PSG\\n3\\nDunia\\nUpdate Jelang Laga Liga Champions Barcelona Vs Benfica; 2 Nama Absen, Siapa Jadi Pengganti Sepadan?\\n4\\nDunia\\nHasil Leg Kedua 16 Besar Liga Champions 2024/2025: Inter dan Barcelona Lolos ke Perempat Final, Liverpool Vs PSG Lanjut Babak Tambahan\\n5\\nDunia\\nPrediksi Skor Akhir Liverpool Vs PSG pada Laga Liga Champions Malam Ini: Ketat dan Ada Dua Kombinasi Paling Sering\\n6\\nDunia\\nEliminasi Menyakitkan Liverpool dari Liga Champions: di Mana Kesalahan Arne Slot?\\n7\\nDunia\\nLewat Drama Adu Penalti, Liverpool Disingkirkan PSG di Anfield\\n8\\nDunia\\nAir Mata Mohamed Salah Tak Terbendung setelah Liverpool Disingkirkan PSG di Liga Champions 2024/2025\\n9\\nDunia\\nNonton Live Streaming Liverpool Vs PSG pada Leg Kedua 16 Besar Liga Champions di Vidio Malam Ini\\n10\\nDunia\\nLiverpool Tersingkir dari Liga Champions, Virgil van Dijk Beri Pesan buat Darwin Nunez Dkk\\nAdvertisement\\nTRENDING\\n#\\nLink Live Streaming\\n#\\nLiga Champions\\n#\\nLiga Europa\\n#\\nCristiano Ronaldo\\n#\\nSportBites\\n#\\nLiga Italia\\n#\\nLionel Messi\\n#\\nWAGs\\nAdvertisement\"}]"
      ]
     },
     "execution_count": 34,
     "metadata": {},
     "output_type": "execute_result"
    }
   ],
   "source": [
    "# Try this out, and then try for a few more websites\n",
    "kaka = Website(\"https://www.bola.com/dunia/read/4235007/4-hal-seputar-ricardo-kaka-peraih-ballon-dor-terakhir-sebelum-era-ronaldo-dan-messi?page=3\")\n",
    "messages_for(kaka)"
   ]
  },
  {
   "cell_type": "markdown",
   "id": "16f49d46-bf55-4c3e-928f-68fc0bf715b0",
   "metadata": {},
   "source": [
    "## Time to bring it together - the API for OpenAI is very simple!"
   ]
  },
  {
   "cell_type": "code",
   "execution_count": 35,
   "id": "905b9919-aba7-45b5-ae65-81b3d1d78e34",
   "metadata": {},
   "outputs": [],
   "source": [
    "# And now: call the OpenAI API. You will get very familiar with this!\n",
    "\n",
    "def summarize(url):\n",
    "    website = Website(url)\n",
    "    response = openai.chat.completions.create(\n",
    "        model = \"gpt-4o-mini\",\n",
    "        messages = messages_for(website)\n",
    "    )\n",
    "    return response.choices[0].message.content\n",
    "\n",
    "def summarize(url):\n",
    "    web = Website(url)\n",
    "    response = openai.chat.completions.create(\n",
    "        model='gpt-4o-mini',\n",
    "        messages=messages_for(web)\n",
    "    )\n",
    "    return response.choices[0].message.content\n",
    "    "
   ]
  },
  {
   "cell_type": "code",
   "execution_count": 36,
   "id": "05e38d41-dfa4-4b20-9c96-c46ea75d9fb5",
   "metadata": {},
   "outputs": [
    {
     "data": {
      "text/plain": [
       "\"# Summary of Edward Donner's Website\\n\\nEdward Donner's website serves as a personal and professional platform for Ed, who is a co-founder and CTO of Nebula.io. He focuses on applying AI to help individuals discover their potential, particularly in the realm of talent management. The site features information on Ed's interests, including coding, experimenting with LLMs (large language models), DJing, and music production.\\n\\n## Key Highlights:\\n- **Professional Background**: Ed has experience as the founder and CEO of the AI startup untapt, which was acquired in 2021. He emphasizes the use of proprietary LLMs and has patented a matching model for talent engagement.\\n- **Interests**: Aside from his professional endeavors, he enjoys following technology trends and is involved in electronic music production.\\n\\n## Recent News and Announcements:\\n- **January 23, 2025**: Announced resources for a hands-on workshop focused on LLMs and agents.\\n- **December 21, 2024**: Welcomed SuperDataScientists to the platform.\\n- **November 13, 2024**: Shared resources for mastering AI and LLM engineering.\\n- **October 16, 2024**: Provided resources for transitioning from a software engineer to an AI data scientist.\\n\\nThe website encourages visitors to connect with Ed for further engagement and collaboration.\""
      ]
     },
     "execution_count": 36,
     "metadata": {},
     "output_type": "execute_result"
    }
   ],
   "source": [
    "summarize(\"https://edwarddonner.com\")"
   ]
  },
  {
   "cell_type": "code",
   "execution_count": 37,
   "id": "6d59555b",
   "metadata": {},
   "outputs": [
    {
     "data": {
      "text/plain": [
       "\"# Summary of the Article on Ricardo Kaka\\n\\nThe webpage features an article discussing **Ricardo Kaka**, who celebrated his 38th birthday on April 22, 2020. He is recognized as the last recipient of the **Ballon d'Or** before the dominance of Cristiano Ronaldo and Lionel Messi. \\n\\n### Key Highlights:\\n1. **Background**:\\n   - Kaka, born Ricardo Izecson dos Santos Leite, is a celebrated Brazilian footballer known for his time at **AC Milan**, where he won the **2007 Ballon d'Or** after leading his team to victory in the **Champions League**.\\n\\n2. **Career**:\\n   - He transitioned from **Sao Paulo** to AC Milan in 2003, where he achieved significant success during two stints with the club, winning various trophies.\\n   - Kaka moved to **Real Madrid** in 2009 for a record transfer fee, but injuries limited his impact there, leading to a return to AC Milan in 2013.\\n\\n3. **Post-Retirement**:\\n   - Since retiring in 2017, Kaka has maintained high popularity, boasting over 16 million followers on Instagram and being active in charity events, including serving as a **UN ambassador** for the World Food Programme since 2004.\\n\\n4. **Notable Facts**:\\n   - Uniquely, Kaka came from a wealthy family, allowing him to receive quality education alongside football training.\\n   - Despite his injuries, Kaka contributed to Real Madrid's success during his tenure.\\n\\nThe article acts as both a tribute and a summary of Kaka's career and legacy in football.\""
      ]
     },
     "execution_count": 37,
     "metadata": {},
     "output_type": "execute_result"
    }
   ],
   "source": [
    "summarize(\"https://www.bola.com/dunia/read/4235007/4-hal-seputar-ricardo-kaka-peraih-ballon-dor-terakhir-sebelum-era-ronaldo-dan-messi?page=3\")"
   ]
  },
  {
   "cell_type": "code",
   "execution_count": null,
   "id": "3d926d59-450e-4609-92ba-2d6f244f1342",
   "metadata": {},
   "outputs": [],
   "source": [
    "# A function to display this nicely in the Jupyter output, using markdown\n",
    "\n",
    "def display_summary(url):\n",
    "    summary = summarize(url)\n",
    "    display(Markdown(summary))"
   ]
  },
  {
   "cell_type": "code",
   "execution_count": null,
   "id": "3018853a-445f-41ff-9560-d925d1774b2f",
   "metadata": {},
   "outputs": [],
   "source": [
    "display_summary(\"https://edwarddonner.com\")"
   ]
  },
  {
   "cell_type": "markdown",
   "id": "b3bcf6f4-adce-45e9-97ad-d9a5d7a3a624",
   "metadata": {},
   "source": [
    "# Let's try more websites\n",
    "\n",
    "Note that this will only work on websites that can be scraped using this simplistic approach.\n",
    "\n",
    "Websites that are rendered with Javascript, like React apps, won't show up. See the community-contributions folder for a Selenium implementation that gets around this. You'll need to read up on installing Selenium (ask ChatGPT!)\n",
    "\n",
    "Also Websites protected with CloudFront (and similar) may give 403 errors - many thanks Andy J for pointing this out.\n",
    "\n",
    "But many websites will work just fine!"
   ]
  },
  {
   "cell_type": "code",
   "execution_count": null,
   "id": "45d83403-a24c-44b5-84ac-961449b4008f",
   "metadata": {},
   "outputs": [],
   "source": [
    "display_summary(\"https://cnn.com\")"
   ]
  },
  {
   "cell_type": "code",
   "execution_count": null,
   "id": "75e9fd40-b354-4341-991e-863ef2e59db7",
   "metadata": {},
   "outputs": [],
   "source": [
    "display_summary(\"https://anthropic.com\")"
   ]
  },
  {
   "cell_type": "markdown",
   "id": "c951be1a-7f1b-448f-af1f-845978e47e2c",
   "metadata": {},
   "source": [
    "<table style=\"margin: 0; text-align: left;\">\n",
    "    <tr>\n",
    "        <td style=\"width: 150px; height: 150px; vertical-align: middle;\">\n",
    "            <img src=\"../business.jpg\" width=\"150\" height=\"150\" style=\"display: block;\" />\n",
    "        </td>\n",
    "        <td>\n",
    "            <h2 style=\"color:#181;\">Business applications</h2>\n",
    "            <span style=\"color:#181;\">In this exercise, you experienced calling the Cloud API of a Frontier Model (a leading model at the frontier of AI) for the first time. We will be using APIs like OpenAI at many stages in the course, in addition to building our own LLMs.\n",
    "\n",
    "More specifically, we've applied this to Summarization - a classic Gen AI use case to make a summary. This can be applied to any business vertical - summarizing the news, summarizing financial performance, summarizing a resume in a cover letter - the applications are limitless. Consider how you could apply Summarization in your business, and try prototyping a solution.</span>\n",
    "        </td>\n",
    "    </tr>\n",
    "</table>\n",
    "\n",
    "<table style=\"margin: 0; text-align: left;\">\n",
    "    <tr>\n",
    "        <td style=\"width: 150px; height: 150px; vertical-align: middle;\">\n",
    "            <img src=\"../important.jpg\" width=\"150\" height=\"150\" style=\"display: block;\" />\n",
    "        </td>\n",
    "        <td>\n",
    "            <h2 style=\"color:#900;\">Before you continue - now try yourself</h2>\n",
    "            <span style=\"color:#900;\">Use the cell below to make your own simple commercial example. Stick with the summarization use case for now. Here's an idea: write something that will take the contents of an email, and will suggest an appropriate short subject line for the email. That's the kind of feature that might be built into a commercial email tool.</span>\n",
    "        </td>\n",
    "    </tr>\n",
    "</table>"
   ]
  },
  {
   "cell_type": "code",
   "execution_count": 39,
   "id": "00743dac-0e70-45b7-879a-d7293a6f68a6",
   "metadata": {},
   "outputs": [
    {
     "name": "stdout",
     "output_type": "stream",
     "text": [
      "Thank you for sharing what’s going on in your life. It sounds like you're navigating through some significant challenges, and it’s understandable to feel overwhelmed at times. \n",
      "\n",
      "1. **Career Transition**: Losing a job, especially after having invested time and effort, is undeniably tough. It’s completely valid to feel frustrated and uncertain. You're not alone in this; many people experience setbacks in their careers. The fact that you see yourself more as a problem-solver than a seller is an important insight. It might be worth considering roles that align more with your problem-solving skills rather than purely sales positions. Remember that this could also be an opportunity for growth and exploring new paths in your career. Embrace the learning curve—sales can be tough, but gaining new skills can make you more versatile in your field. \n",
      "\n",
      "2. **Separation and Relationships**: It seems like you handled the separation from your wife with a level of awareness and self-reflection, recognizing that it was for the best for both of you. That self-awareness is critical and speaks well of your ability to make tough decisions for your happiness and hers. \n",
      "\n",
      "3. **Complicated Feelings**: Your relationship with your love interest is complex. It’s evident that she holds a special place in your heart, but it can be painful when you perceive a disconnect between how you feel and the situation at hand. It’s important to acknowledge that relationships, especially those that are unfulfilled or one-sided, can be emotionally taxing. While her words may sting, it might help to reflect on what you truly want from this relationship. If she brings you comfort, that’s valuable in itself; just ensure you are not placing your entire emotional well-being on someone who can't reciprocate in the same way.\n",
      "\n",
      "Overall, it’s commendable that you’re seeking to understand and navigate these challenges. Seeking support from friends, family, or even professional help can provide you with additional perspectives and coping mechanisms. Remember that everyone faces difficulties; how we respond and adapt to them ultimately shapes our future. Embrace what you can learn from this period; it can lead to new opportunities and personal growth.\n"
     ]
    }
   ],
   "source": [
    "# Step 1: Create your prompts\n",
    "\n",
    "system_prompt = \"you're a psychologist who try to building the morale while not sugarcoating the clients\"\n",
    "user_prompt = \"\"\"\n",
    "Ok so me, 32 years old man with 1 son, know having a big problem in his life:\n",
    "\n",
    "1. \n",
    "I have pretty decent career as data scientist, but currently I just being laid off from my current company due circumstances (my manager who hired me is gone) and also my not-meet-their-expectations pre sales performance. Well I think I'm more of problem solver than seller, but it is harsh because I begin to learn how to sell.... But it is tough.\n",
    "2.\n",
    "I'm seperated from my wife, and it is not a big problem in my life because I initiated this few months ago. I'm glad because finally I dont have a romantic relationship which someone I could not. It is not fair for her and myself.\n",
    "3.\n",
    "I have my own love interest that I have loved for 7 years. But she is married and we don't have any romantic relationship as per now and maybe in the future, I would say we are just companion. However it hurts me when she said she is the one who cause bad things in my life while I do think she's the only one who comforts me right now.\n",
    "\"\"\"\n",
    "\n",
    "# Step 2: Make the messages list\n",
    "\n",
    "messages = [\n",
    "    {\"role\":\"system\", \"content\":system_prompt},\n",
    "    {\"role\":\"user\", \"content\":user_prompt}\n",
    "    ] # fill this in\n",
    "\n",
    "# Step 3: Call OpenAI\n",
    "\n",
    "response = openai.chat.completions.create(model='gpt-4o-mini', messages=messages)\n",
    "\n",
    "# Step 4: print the result\n",
    "\n",
    "print(response.choices[0].message.content)"
   ]
  },
  {
   "cell_type": "markdown",
   "id": "36ed9f14-b349-40e9-a42c-b367e77f8bda",
   "metadata": {},
   "source": [
    "## An extra exercise for those who enjoy web scraping\n",
    "\n",
    "You may notice that if you try `display_summary(\"https://openai.com\")` - it doesn't work! That's because OpenAI has a fancy website that uses Javascript. There are many ways around this that some of you might be familiar with. For example, Selenium is a hugely popular framework that runs a browser behind the scenes, renders the page, and allows you to query it. If you have experience with Selenium, Playwright or similar, then feel free to improve the Website class to use them. In the community-contributions folder, you'll find an example Selenium solution from a student (thank you!)"
   ]
  },
  {
   "cell_type": "markdown",
   "id": "eeab24dc-5f90-4570-b542-b0585aca3eb6",
   "metadata": {},
   "source": [
    "# Sharing your code\n",
    "\n",
    "I'd love it if you share your code afterwards so I can share it with others! You'll notice that some students have already made changes (including a Selenium implementation) which you will find in the community-contributions folder. If you'd like add your changes to that folder, submit a Pull Request with your new versions in that folder and I'll merge your changes.\n",
    "\n",
    "If you're not an expert with git (and I am not!) then GPT has given some nice instructions on how to submit a Pull Request. It's a bit of an involved process, but once you've done it once it's pretty clear. As a pro-tip: it's best if you clear the outputs of your Jupyter notebooks (Edit >> Clean outputs of all cells, and then Save) for clean notebooks.\n",
    "\n",
    "Here are good instructions courtesy of an AI friend:  \n",
    "https://chatgpt.com/share/677a9cb5-c64c-8012-99e0-e06e88afd293"
   ]
  },
  {
   "cell_type": "code",
   "execution_count": null,
   "id": "f4484fcf-8b39-4c3f-9674-37970ed71988",
   "metadata": {},
   "outputs": [],
   "source": []
  }
 ],
 "metadata": {
  "kernelspec": {
   "display_name": "llms",
   "language": "python",
   "name": "python3"
  },
  "language_info": {
   "codemirror_mode": {
    "name": "ipython",
    "version": 3
   },
   "file_extension": ".py",
   "mimetype": "text/x-python",
   "name": "python",
   "nbconvert_exporter": "python",
   "pygments_lexer": "ipython3",
   "version": "3.11.4"
  }
 },
 "nbformat": 4,
 "nbformat_minor": 5
}
